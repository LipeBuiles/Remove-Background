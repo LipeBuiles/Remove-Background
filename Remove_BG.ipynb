{
  "nbformat": 4,
  "nbformat_minor": 0,
  "metadata": {
    "colab": {
      "provenance": [],
      "authorship_tag": "ABX9TyOd2LmvkKS9+pUEcyP6JhBu",
      "include_colab_link": true
    },
    "kernelspec": {
      "name": "python3",
      "display_name": "Python 3"
    },
    "language_info": {
      "name": "python"
    }
  },
  "cells": [
    {
      "cell_type": "markdown",
      "metadata": {
        "id": "view-in-github",
        "colab_type": "text"
      },
      "source": [
        "<a href=\"https://colab.research.google.com/github/LipeBuiles/Remove-Background/blob/main/Remove_BG.ipynb\" target=\"_parent\"><img src=\"https://colab.research.google.com/assets/colab-badge.svg\" alt=\"Open In Colab\"/></a>"
      ]
    },
    {
      "cell_type": "code",
      "execution_count": null,
      "metadata": {
        "id": "RkVVeTNB9pE7"
      },
      "outputs": [],
      "source": [
        "!pip install rembg"
      ]
    },
    {
      "cell_type": "code",
      "source": [
        "import os\n",
        "import shutil\n",
        "from datetime import datetime\n",
        "from rembg import remove\n",
        "from google.colab import files"
      ],
      "metadata": {
        "id": "YwCDLOU69-Mi"
      },
      "execution_count": null,
      "outputs": []
    },
    {
      "cell_type": "code",
      "source": [
        "input = \"input\"\n",
        "output = \"output\"\n",
        "\n",
        "ruta = \"/content\"\n",
        "\n",
        "# Crear la primera carpeta\n",
        "input_path = os.path.join(ruta, input)\n",
        "os.makedirs(input_path, exist_ok=True)\n",
        "\n",
        "# Crear la segunda carpeta\n",
        "output_path = os.path.join(ruta, output)\n",
        "os.makedirs(output_path, exist_ok=True)"
      ],
      "metadata": {
        "id": "mHchbQ2fNLOG"
      },
      "execution_count": null,
      "outputs": []
    },
    {
      "cell_type": "code",
      "source": [
        "uploaded = files.upload()\n",
        "\n",
        "\n",
        "for filename in uploaded.keys():\n",
        "    shutil.move(filename, os.path.join(input, filename))"
      ],
      "metadata": {
        "id": "_lWVnMkSQAF5"
      },
      "execution_count": null,
      "outputs": []
    },
    {
      "cell_type": "code",
      "source": [
        "class BackgroundRemover:\n",
        "    def __init__(self, input_folder, output_folder):\n",
        "        self.input_folder = input_folder\n",
        "        self.output_folder = output_folder\n",
        "\n",
        "    def process_images(self):\n",
        "        today = datetime.now().strftime('%Y-%m-%d %H-%M-%S')\n",
        "        proccessed_folder = os.path.join(self.output_folder, today)\n",
        "        os.makedirs(proccessed_folder, exist_ok=True)\n",
        "\n",
        "        for filename in os.listdir(self.input_folder):\n",
        "            if filename.endswith(('.png', '.jpg', '.jpeg')):\n",
        "                input_path = os.path.join(self.input_folder, filename)\n",
        "                output_path = os.path.join(proccessed_folder, filename)\n",
        "                self._remove_background(input_path, output_path)\n",
        "                self._move_originals(input_path, proccessed_folder)\n",
        "\n",
        "    def _remove_background(self, input_p, output_p):\n",
        "        with open(input_p, 'rb') as inp, open(output_p, 'wb') as outp:\n",
        "            background_output = remove(inp.read())\n",
        "            outp.write(background_output)\n",
        "\n",
        "    def _move_originals(self, input_p, dest_p):\n",
        "        originals_folder = os.path.join(dest_p, 'originals')\n",
        "        os.makedirs(originals_folder, exist_ok=True)\n",
        "\n",
        "        filename = os.path.basename(input_p)\n",
        "        new_path = os.path.join(originals_folder, filename)\n",
        "        os.rename(input_p, new_path)\n",
        "\n",
        "if __name__ == '__main__':\n",
        "    input_folder = \"input\"\n",
        "    output_folder = \"output\"\n",
        "\n",
        "    remover = BackgroundRemover(input_folder, output_folder)\n",
        "    remover.process_images()"
      ],
      "metadata": {
        "id": "UcM_VnjCGo1M"
      },
      "execution_count": null,
      "outputs": []
    },
    {
      "cell_type": "code",
      "source": [
        "#!rm output/ -R"
      ],
      "metadata": {
        "id": "M2tUsh1kQOrb"
      },
      "execution_count": null,
      "outputs": []
    }
  ]
}